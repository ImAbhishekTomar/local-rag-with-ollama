{
 "cells": [
  {
   "cell_type": "code",
   "execution_count": 23,
   "metadata": {},
   "outputs": [],
   "source": [
    "!pip install --q chromadb\n",
    "!pip install --q langchain-text-splitters\n",
    "!pip install --q unstructured langchain\n",
    "!pip install --q \"unstructured[all-docs]\""
   ]
  },
  {
   "cell_type": "code",
   "execution_count": 24,
   "metadata": {},
   "outputs": [],
   "source": [
    "!pip install --q pillow_heif \n",
    "!pip install --q matplotlib \n",
    "!pip install --q unstructured_inference"
   ]
  },
  {
   "cell_type": "markdown",
   "metadata": {},
   "source": [
    "### Start Code\n"
   ]
  },
  {
   "cell_type": "code",
   "execution_count": 37,
   "metadata": {},
   "outputs": [],
   "source": [
    "from langchain_community.embeddings import OllamaEmbeddings\n",
    "from langchain_text_splitters import RecursiveCharacterTextSplitter\n",
    "from langchain_community.vectorstores import Chroma\n",
    "\n",
    "from langchain_community.document_loaders import UnstructuredPDFLoader\n",
    "from langchain_community.document_loaders import OnlinePDFLoader"
   ]
  },
  {
   "cell_type": "code",
   "execution_count": 26,
   "metadata": {},
   "outputs": [],
   "source": [
    "local_path = \"graphql_org_learn_queries.pdf\"\n",
    "\n",
    "# Local PDF file uploads\n",
    "if local_path:\n",
    "    loader = UnstructuredPDFLoader(file_path=local_path)\n",
    "    data = loader.load()\n",
    "else:\n",
    "    print(\"Upload a PDF file\")"
   ]
  },
  {
   "cell_type": "code",
   "execution_count": 27,
   "metadata": {},
   "outputs": [
    {
     "data": {
      "text/plain": [
       "'📣 GraphQLConf 2024 • Sept 10-12 • San Francisco • Check out the Schedule & Get Your Ticket • …\\n\\nQueries and Mutations\\n\\nOn this page, you’ll learn in detail about how to query a GraphQL server.\\n\\nFields\\n\\nAt its simplest, GraphQL is about asking for speci\\x00c \\x00elds on objects. Let’s\\n\\nstart by looking at a very simple query and the result we get when we run it:\\n\\n{ hero { name } }\\n\\n{ \"data\": { \"hero\": { \"name\": \"R2-D2\" } } }\\n\\nYou can see immediately that the query has exactly the same shape as the\\n\\nresult. This is essential to GraphQL, because you always get back what you\\n\\nexpect, and the server knows exactly what \\x00elds the client is asking for.\\n\\nThe \\x00eld name returns a String type, in this case the name of the main hero of Star Wars, \"R2-D2\" .\\n\\nOh, one more thing - the query above is interactive. That means you can\\n\\nchange it as you like and see the new result. Try adding an appearsIn \\x00eld to the hero object in the query, and see the new result.\\n\\nIn the previous example, we just asked for the name of our hero which returned\\n\\na String, but \\x00elds can also refer to Objects. In that case, you can make a sub-\\n\\nselection of \\x00elds for that object. GraphQL queries can traverse related objects\\n\\nExplore our developer-friendly HTML to PDF API\\n\\nPrinted using PDFCrowd\\n\\nHTML to PDF\\n\\nand their \\x00elds, letting clients fetch lots of related data in one request, instead\\n\\nof making several roundtrips as one would need in a classic REST architecture.\\n\\n{ hero { name # Queries can have comments! friends { name } } }\\n\\n{ \"data\": { \"hero\": { \"name\": \"R2-D2\", \"friends\": [ { \"name\": \"Luke Skywalke }, { \"name\": \"Han Solo\" }, {\\n\\nNote that in this example, the friends \\x00eld returns an array of items. GraphQL queries look the same for both single items or lists of items; however,\\n\\nwe know which one to expect based on what is indicated in the schema.\\n\\nArguments\\n\\nIf the only thing we could do was traverse objects and their \\x00elds, GraphQL\\n\\nwould already be a very useful language for data fetching. But when you add\\n\\nthe ability to pass arguments to \\x00elds, things get much more interesting.\\n\\n{ human(id: \"1000\") { name height } }\\n\\n{ \"data\": { \"human\": { \"name\": \"Luke Skywalker\", \"height\": 1.72 } } }\\n\\nIn a system like REST, you can only pass a single set of arguments - the query\\n\\nparameters and URL segments in your request. But in GraphQL, every \\x00eld and\\n\\nnested object can get its own set of arguments, making GraphQL a complete\\n\\nreplacement for making multiple API fetches. You can even pass arguments\\n\\ninto scalar \\x00elds, to implement data transformations once on the server,\\n\\ninstead of on every client separately.\\n\\nExplore our developer-friendly HTML to PDF API\\n\\nPrinted using PDFCrowd\\n\\nHTML to PDF\\n\\n{ human(id: \"1000\") { name height(unit: FOOT) } }\\n\\n{ \"data\": { \"human\": { \"name\": \"Luke Skywalker\", \"height\": 5.6430448 } } }\\n\\nArguments can be of many di\\x00erent types. In the above example, we have used\\n\\nan Enumeration type, which represents one of a \\x00nite set of options (in this\\n\\ncase, units of length, either METER or FOOT ). GraphQL comes with a default set of types, but a GraphQL server can also declare its own custom types, as\\n\\nlong as they can be serialized into your transport format.\\n\\nRead more about the GraphQL type system here.\\n\\nAliases\\n\\nIf you have a sharp eye, you may have noticed that, since the result object \\x00elds\\n\\nmatch the name of the \\x00eld in the query but don’t include arguments, you can’t\\n\\ndirectly query for the same \\x00eld with di\\x00erent arguments. That’s why you need\\n\\naliases - they let you rename the result of a \\x00eld to anything you want.\\n\\n{ empireHero: hero(episode: EMPIR name } jediHero: hero(episode: JEDI) { name } }\\n\\n{ \"data\": { \"empireHero\": { \"name\": \"Luke Skywalker\" }, \"jediHero\": { \"name\": \"R2-D2\" } } }\\n\\nIn the above example, the two hero \\x00elds would have con\\x00icted, but since we can alias them to di\\x00erent names, we can get both results in one request.\\n\\nExplore our developer-friendly HTML to PDF API\\n\\nPrinted using PDFCrowd\\n\\nHTML to PDF\\n\\nFragments\\n\\nLet’s say we had a relatively complicated page in our app, which lets us look at\\n\\ntwo heroes side by side, along with their friends. You can imagine that such a\\n\\nquery could quickly get complicated, because we would need to repeat the\\n\\n\\x00elds at least once - one for each side of the comparison.\\n\\nThat’s why GraphQL includes reusable units called fragments. Fragments let\\n\\nyou construct sets of \\x00elds, and then include them in queries where you need\\n\\nto. Here’s an example of how you could solve the above situation using\\n\\nfragments:\\n\\n{ leftComparison: hero(episode: E ...comparisonFields } rightComparison: hero(episode: ...comparisonFields } }\\n\\nfragment comparisonFields on Cha name appearsIn friends { name } }\\n\\n{ \"data\": { \"leftComparison\": { \"name\": \"Luke Skywalker\", \"appearsIn\": [ \"NEWHOPE\", \"EMPIRE\", \"JEDI\" ], \"friends\": [ { \"name\": \"Han Solo\" }, { \"name\": \"Leia Organa\" }, { \"name\": \"C-3PO\" },\\n\\n{\\n\\nYou can see how the above query would be pretty repetitive if the \\x00elds were\\n\\nrepeated. The concept of fragments is frequently used to split complicated\\n\\napplication data requirements into smaller chunks, especially when you need to\\n\\ncombine lots of UI components with di\\x00erent fragments into one initial data\\n\\nfetch.\\n\\nUsing variables inside fragments\\n\\nExplore our developer-friendly HTML to PDF API\\n\\nPrinted using PDFCrowd\\n\\nHTML to PDF\\n\\nIt is possible for fragments to access variables declared in the query or\\n\\nmutation. See variables.\\n\\nquery HeroComparison($first: Int leftComparison: hero(episode: E ...comparisonFields } rightComparison: hero(episode: ...comparisonFields } }\\n\\nfragment comparisonFields on Cha name friendsConnection(first: $first totalCount edges { node { name } } } }\\n\\n{ \"data\": { \"leftComparison\": { \"name\": \"Luke Skywalker\", \"friendsConnection\": { \"totalCount\": 4, \"edges\": [ { \"node\": { \"name\": \"Han Solo\" } }, { \"node\": { \"name\": \"Leia Orga } }, { \"node\": { \"name\": \"C-3PO\" } } ] } },\\n\\n\"rightComparison\": {\\n\\nOperation name\\n\\nIn several of the examples above we have been using a shorthand syntax where\\n\\nwe omit both the query keyword and the query name, but in production apps it’s useful to use these to make our code less ambiguous.\\n\\nHere’s an example that includes the keyword query as operation type and HeroNameAndFriends as operation name :\\n\\nquery HeroNameAndFriends { hero { name friends { name } }\\n\\n{ \"data\": { \"hero\": { \"name\": \"R2-D2\", \"friends\": [ { \"name\": \"Luke Skywalke },\\n\\nExplore our developer-friendly HTML to PDF API\\n\\nPrinted using PDFCrowd\\n\\nHTML to PDF\\n\\n}\\n\\n{ \"name\": \"Han Solo\" }, {\\n\\nThe operation type is either query, mutation, or subscription and describes\\n\\nwhat type of operation you’re intending to do. The operation type is required\\n\\nunless you’re using the query shorthand syntax, in which case you can’t supply\\n\\na name or variable de\\x00nitions for your operation.\\n\\nThe operation name is a meaningful and explicit name for your operation. It is\\n\\nonly required in multi-operation documents, but its use is encouraged because\\n\\nit is very helpful for debugging and server-side logging. When something goes\\n\\nwrong (you see errors either in your network logs, or in the logs of your\\n\\nGraphQL server) it is easier to identify a query in your codebase by name\\n\\ninstead of trying to decipher the contents. Think of this just like a function name\\n\\nin your favorite programming language. For example, in JavaScript we can\\n\\neasily work only with anonymous functions, but when we give a function a\\n\\nname, it’s easier to track it down, debug our code, and log when it’s called. In\\n\\nthe same way, GraphQL query and mutation names, along with fragment\\n\\nnames, can be a useful debugging tool on the server side to identify di\\x00erent\\n\\nGraphQL requests.\\n\\nVariables\\n\\nSo far, we have been writing all of our arguments inside the query string. But in\\n\\nmost applications, the arguments to \\x00elds will be dynamic: For example, there\\n\\nmight be a dropdown that lets you select which Star Wars episode you are\\n\\ninterested in, or a search \\x00eld, or a set of \\x00lters.\\n\\nIt wouldn’t be a good idea to pass these dynamic arguments directly in the\\n\\nquery string, because then our client-side code would need to dynamically\\n\\nmanipulate the query string at runtime, and serialize it into a GraphQL-speci\\x00c\\n\\nformat. Instead, GraphQL has a \\x00rst-class way to factor dynamic values out of\\n\\nthe query, and pass them as a separate dictionary. These values are called\\n\\nvariables.\\n\\nExplore our developer-friendly HTML to PDF API\\n\\nPrinted using PDFCrowd\\n\\nHTML to PDF\\n\\nWhen we start working with variables, we need to do three things:\\n\\n1. Replace the static value in the query with $variableName\\n\\n2. Declare $variableName as one of the variables accepted by the query\\n\\n3. Pass variableName: value in the separate, transport-speci\\x00c (usually JSON) variables dictionary\\n\\nHere’s what it looks like all together:\\n\\nquery HeroNameAndFriends($episode hero(episode: $episode) { name friends { name } } }\\n\\n{ \"episode\": \"JEDI\" }\\n\\n{ \"data\": { \"hero\": { \"name\": \"R2-D2\", \"friends\": [ { \"name\": \"Luke Skywalke }, { \"name\": \"Han Solo\" }, { \"name\": \"Leia Organa\" } ]\\n\\n}\\n\\nNow, in our client code, we can simply pass a di\\x00erent variable rather than\\n\\nneeding to construct an entirely new query. This is also in general a good\\n\\npractice for denoting which arguments in our query are expected to be dynamic\\n\\nwe should never be doing string interpolation to construct queries from user-\\n\\nsupplied values.\\n\\nVariable definitions\\n\\nThe variable de\\x00nitions are the part that looks like ($episode: Episode) in the query above. It works just like the argument de\\x00nitions for a function in a\\n\\ntyped language. It lists all of the variables, pre\\x00xed by $ , followed by their type, in this case Episode .\\n\\nAll declared variables must be either scalars, enums, or input object types. So if\\n\\nyou want to pass a complex object into a \\x00eld, you need to know what input\\n\\nExplore our developer-friendly HTML to PDF API\\n\\nPrinted using PDFCrowd\\n\\nHTML to PDF\\n\\ntype that matches on the server. Learn more about input object types on the\\n\\nSchema page.\\n\\nVariable de\\x00nitions can be optional or required. In the case above, since there\\n\\nisn’t an ! next to the Episode type, it’s optional. But if the \\x00eld you are passing the variable into requires a non-null argument, then the variable has to\\n\\nbe required as well.\\n\\nTo learn more about the syntax for these variable de\\x00nitions, it’s useful to learn\\n\\nthe GraphQL schema language. The schema language is explained in detail on\\n\\nthe Schemas and Types page.\\n\\nDefault variables\\n\\nDefault values can also be assigned to the variables in the query by adding the\\n\\ndefault value after the type declaration.\\n\\nquery HeroNameAndFriends($episode: Episode = JEDI) {\\n\\nhero(episode: $episode) { name\\n\\nfriends {\\n\\nname }\\n\\n} }\\n\\nWhen default values are provided for all variables, you can call the query\\n\\nwithout passing any variables. If any variables are passed as part of the\\n\\nvariables dictionary, they will override the defaults.\\n\\nDirectives\\n\\nWe discussed above how variables enable us to avoid doing manual string\\n\\ninterpolation to construct dynamic queries. Passing variables in arguments\\n\\nsolves a pretty big class of these problems, but we might also need a way to\\n\\ndynamically change the structure and shape of our queries using variables. For\\n\\nExplore our developer-friendly HTML to PDF API\\n\\nPrinted using PDFCrowd\\n\\nHTML to PDF\\n\\nexample, we can imagine a UI component that has a summarized and detailed\\n\\nview, where one includes more \\x00elds than the other.\\n\\nLet’s construct a query for such a component:\\n\\nquery Hero($episode: Episode, $wi hero(episode: $episode) { name friends @include(if: $withFri name } } }\\n\\n{ \"data\": { \"hero\": { \"name\": \"R2-D2\" } } }\\n\\n{ \"episode\": \"JEDI\", \"withFriends\": false }\\n\\nTry editing the variables above to instead pass true for withFriends , and see how the result changes.\\n\\nWe needed to use a new feature in GraphQL called a directive. A directive can\\n\\nbe attached to a \\x00eld or fragment inclusion, and can a\\x00ect execution of the\\n\\nquery in any way the server desires. The core GraphQL speci\\x00cation includes\\n\\nexactly two directives, which must be supported by any spec-compliant\\n\\nGraphQL server implementation:\\n\\n@include(if: Boolean) Only include this \\x00eld in the result if the argument is true .\\n\\n@skip(if: Boolean) Skip this \\x00eld if the argument is true .\\n\\nDirectives can be useful to get out of situations where you otherwise would\\n\\nneed to do string manipulation to add and remove \\x00elds in your query. Server\\n\\nimplementations may also add experimental features by de\\x00ning completely\\n\\nnew directives.\\n\\nExplore our developer-friendly HTML to PDF API\\n\\nPrinted using PDFCrowd\\n\\nHTML to PDF\\n\\nMutations\\n\\nMost discussions of GraphQL focus on data fetching, but any complete data\\n\\nplatform needs a way to modify server-side data as well.\\n\\nIn REST, any request might end up causing some side-e\\x00ects on the server, but\\n\\nby convention it’s suggested that one doesn’t use GET requests to modify data. GraphQL is similar - technically any query could be implemented to cause\\n\\na data write. However, it’s useful to establish a convention that any operations\\n\\nthat cause writes should be sent explicitly via a mutation.\\n\\nJust like in queries, if the mutation \\x00eld returns an object type, you can ask for\\n\\nnested \\x00elds. This can be useful for fetching the new state of an object after an\\n\\nupdate. Let’s look at a simple example mutation:\\n\\nmutation CreateReviewForEpisode($ createReview(episode: $ep, revi stars commentary } }\\n\\n{ \"data\": { \"createReview\": { \"stars\": 5, \"commentary\": \"This is a g } } }\\n\\n{ \"ep\": \"JEDI\", \"review\": { \"stars\": 5, \"commentary\": \"This is a grea } }\\n\\nNote how createReview \\x00eld returns the stars and commentary \\x00elds of the newly created review. This is especially useful when mutating existing data,\\n\\nfor example, when incrementing a \\x00eld, since we can mutate and query the\\n\\nnew value of the \\x00eld with one request.\\n\\nYou might also notice that, in this example, the review variable we passed in is not a scalar. It’s an input object type, a special kind of object type that can be\\n\\nExplore our developer-friendly HTML to PDF API\\n\\nPrinted using PDFCrowd\\n\\nHTML to PDF\\n\\npassed in as an argument. Learn more about input types on the Schema page.\\n\\nMultiple fields in mutations\\n\\nA mutation can contain multiple \\x00elds, just like a query. There’s one important\\n\\ndistinction between queries and mutations, other than the name:\\n\\nWhile query \\x00elds are executed in parallel, mutation \\x00elds run in series,\\n\\none after the other.\\n\\nThis means that if we send two incrementCredits mutations in one request, the \\x00rst is guaranteed to \\x00nish before the second begins, ensuring that we\\n\\ndon’t end up with a race condition with ourselves.\\n\\nInline Fragments\\n\\nLike many other type systems, GraphQL schemas include the ability to de\\x00ne\\n\\ninterfaces and union types. Learn about them in the schema guide.\\n\\nIf you are querying a \\x00eld that returns an interface or a union type, you will need\\n\\nto use inline fragments to access data on the underlying concrete type. It’s\\n\\neasiest to see with an example:\\n\\nquery HeroForEpisode($ep: Episode hero(episode: $ep) { name ... on Droid { primaryFunction } ... on Human { height } } }\\n\\n{ \"data\": { \"hero\": { \"name\": \"R2-D2\", \"primaryFunction\": \"Astrom } } }\\n\\n{ \"ep\": \"JEDI\"\\n\\nExplore our developer-friendly HTML to PDF API\\n\\nPrinted using PDFCrowd\\n\\nHTML to PDF\\n\\n}\\n\\nIn this query, the hero \\x00eld returns the type Character , which might be either a Human or a Droid depending on the episode argument. In the direct selection, you can only ask for \\x00elds that exist on the Character interface, such as name .\\n\\nTo ask for a \\x00eld on the concrete type, you need to use an inline fragment with\\n\\na type condition. Because the \\x00rst fragment is labeled as ... on Droid , the primaryFunction \\x00eld will only be executed if the Character returned from hero is of the Droid type. Similarly for the height \\x00eld for the Human type.\\n\\nNamed fragments can also be used in the same way, since a named fragment\\n\\nalways has a type attached.\\n\\nMeta fields\\n\\nGiven that there are some situations where you don’t know what type you’ll get\\n\\nback from the GraphQL service, you need some way to determine how to\\n\\nhandle that data on the client. GraphQL allows you to request __typename , a meta \\x00eld, at any point in a query to get the name of the object type at that\\n\\npoint.\\n\\n{ search(text: \"an\") { __typename ... on Human { name } ... on Droid { name } ... on Starship { name } } }\\n\\n{ \"data\": { \"search\": [ { \"__typename\": \"Human\", \"name\": \"Han Solo\" }, { \"__typename\": \"Human\", \"name\": \"Leia Organa\" }, { \"__typename\": \"Starship\" \"name\": \"TIE Advanced x1 } ] }\\n\\nExplore our developer-friendly HTML to PDF API\\n\\nPrinted using PDFCrowd\\n\\nHTML to PDF\\n\\nIn the above query, search returns a union type that can be one of three options. It would be impossible to tell apart the di\\x00erent types from the client\\n\\nwithout the __typename \\x00eld.\\n\\nGraphQL services provide a few meta \\x00elds, the rest of which are used to\\n\\nexpose the Introspection system.\\n\\nLast updated on May 23, 2024\\n\\nIntroduction\\n\\nSchemas and Types\\n\\nExplore our developer-friendly HTML to PDF API\\n\\nPrinted using PDFCrowd\\n\\nHTML to PDF'"
      ]
     },
     "execution_count": 27,
     "metadata": {},
     "output_type": "execute_result"
    }
   ],
   "source": [
    "# Preview first page\n",
    "data[0].page_content"
   ]
  },
  {
   "cell_type": "code",
   "execution_count": 38,
   "metadata": {},
   "outputs": [],
   "source": [
    "# Split and chunk\n",
    "text_splitter = RecursiveCharacterTextSplitter(\n",
    "    chunk_size=7500, chunk_overlap=100)\n",
    "chunks = text_splitter.split_documents(data)"
   ]
  },
  {
   "cell_type": "code",
   "execution_count": null,
   "metadata": {},
   "outputs": [],
   "source": [
    "!ollama pull mistral\n",
    "!ollama pull nomic-embed-text"
   ]
  },
  {
   "cell_type": "code",
   "execution_count": 94,
   "metadata": {},
   "outputs": [
    {
     "name": "stderr",
     "output_type": "stream",
     "text": [
      "44361.94s - pydevd: Sending message related to process being replaced timed-out after 5 seconds\n"
     ]
    },
    {
     "name": "stdout",
     "output_type": "stream",
     "text": [
      "NAME                   \tID          \tSIZE  \tMODIFIED      \n",
      "mistral:latest         \t2ae6f6dd7a3d\t4.1 GB\t2 minutes ago\t\n",
      "nomic-embed-text:latest\t0a109f422b47\t274 MB\t4 minutes ago\t\n",
      "moondream:latest       \t55fc3abd3867\t1.7 GB\t6 days ago   \t\n",
      "llama3:latest          \ta6990ed6be41\t4.7 GB\t6 weeks ago  \t\n"
     ]
    }
   ],
   "source": [
    "\n",
    "!ollama list"
   ]
  },
  {
   "cell_type": "code",
   "execution_count": 84,
   "metadata": {},
   "outputs": [],
   "source": [
    "\n",
    "embeddings = OllamaEmbeddings(model=\"nomic-embed-text\", show_progress=True)\n",
    "vector_db = Chroma(collection_name=\"local-rag\", embedding_function=embeddings)"
   ]
  },
  {
   "cell_type": "code",
   "execution_count": 81,
   "metadata": {},
   "outputs": [],
   "source": [
    "\n",
    "# #chroma_instance.add_documents(chunks)\n",
    "\n",
    "# # Add to vector database\n",
    "# vector_db = Chroma.from_documents(\n",
    "#     documents=chunks,\n",
    "#     embedding=OllamaEmbeddings(model=\"nomic-embed-text\", show_progress=True),\n",
    "#     collection_name=\"local-rag\"\n",
    "# )"
   ]
  },
  {
   "cell_type": "code",
   "execution_count": 85,
   "metadata": {},
   "outputs": [],
   "source": [
    "from langchain.prompts import ChatPromptTemplate, PromptTemplate\n",
    "from langchain_core.output_parsers import StrOutputParser\n",
    "from langchain_community.chat_models import ChatOllama\n",
    "from langchain_core.runnables import RunnablePassthrough\n",
    "from langchain.retrievers.multi_query import MultiQueryRetriever"
   ]
  },
  {
   "cell_type": "code",
   "execution_count": 86,
   "metadata": {},
   "outputs": [],
   "source": [
    "# LLM from Ollama\n",
    "local_model = \"mistral\"\n",
    "llm = ChatOllama(model=local_model)"
   ]
  },
  {
   "cell_type": "code",
   "execution_count": 87,
   "metadata": {},
   "outputs": [],
   "source": [
    "QUERY_PROMPT = PromptTemplate(\n",
    "    input_variables=[\"question\"],\n",
    "    template=\"\"\"You are an AI language model assistant. Your task is to generate five\n",
    "    different versions of the given user question to retrieve relevant documents from\n",
    "    a vector database. By generating multiple perspectives on the user question, your\n",
    "    goal is to help the user overcome some of the limitations of the distance-based\n",
    "    similarity search. Provide these alternative questions separated by newlines.\n",
    "    Original question: {question}\"\"\",\n",
    ")"
   ]
  },
  {
   "cell_type": "code",
   "execution_count": 88,
   "metadata": {},
   "outputs": [],
   "source": [
    "retriever = MultiQueryRetriever.from_llm(\n",
    "    vector_db.as_retriever(),\n",
    "    llm,\n",
    "    prompt=QUERY_PROMPT\n",
    ")\n",
    "\n",
    "# RAG prompt\n",
    "template = \"\"\"Answer the question based ONLY on the following context:\n",
    "{context}\n",
    "Question: {question}\n",
    "\"\"\"\n",
    "\n",
    "prompt = ChatPromptTemplate.from_template(template)"
   ]
  },
  {
   "cell_type": "code",
   "execution_count": 89,
   "metadata": {},
   "outputs": [],
   "source": [
    "chain = (\n",
    "    {\"context\": retriever, \"question\": RunnablePassthrough()}\n",
    "    | prompt\n",
    "    | llm\n",
    "    | StrOutputParser()\n",
    ")"
   ]
  },
  {
   "cell_type": "code",
   "execution_count": 107,
   "metadata": {},
   "outputs": [
    {
     "name": "stderr",
     "output_type": "stream",
     "text": [
      "\n",
      "\n",
      "\n",
      "\n",
      "\n",
      "\n",
      "\n",
      "\n",
      "\u001b[A\u001b[A\u001b[A\u001b[A\u001b[A\u001b[A\u001b[A\u001b[A\n",
      "\n",
      "\n",
      "\n",
      "\n",
      "\n",
      "\n",
      "\n",
      "OllamaEmbeddings: 100%|██████████| 1/1 [00:01<00:00,  1.61s/it]\n",
      "\n",
      "\n",
      "\n",
      "\n",
      "\n",
      "\n",
      "\n",
      "\n",
      "OllamaEmbeddings: 100%|██████████| 1/1 [00:00<00:00, 16.58it/s]\n",
      "\n",
      "\n",
      "\n",
      "\n",
      "\n",
      "\n",
      "\n",
      "\n",
      "OllamaEmbeddings: 100%|██████████| 1/1 [00:00<00:00, 13.28it/s]\n",
      "\n",
      "\n",
      "\n",
      "\n",
      "\n",
      "\n",
      "\n",
      "\n",
      "OllamaEmbeddings: 100%|██████████| 1/1 [00:00<00:00, 10.32it/s]\n",
      "\n",
      "\n",
      "\n",
      "\n",
      "\n",
      "\n",
      "\n",
      "\n",
      "OllamaEmbeddings: 100%|██████████| 1/1 [00:00<00:00, 11.12it/s]\n",
      "\n",
      "\n",
      "\n",
      "\n",
      "\n",
      "\n",
      "\n",
      "\n",
      "OllamaEmbeddings: 100%|██████████| 1/1 [00:00<00:00, 14.26it/s]\n",
      "\n",
      "\n",
      "\n",
      "\n",
      "\n",
      "\n",
      "\n",
      "\n",
      "OllamaEmbeddings: 100%|██████████| 1/1 [00:00<00:00, 12.54it/s]\n",
      "\n",
      "\n",
      "\n",
      "\n",
      "\n",
      "\n",
      "\n",
      "\n",
      "OllamaEmbeddings: 100%|██████████| 1/1 [00:00<00:00, 12.91it/s]\n",
      "\n",
      "\n",
      "\n",
      "\n",
      "\n",
      "\n",
      "\n",
      "\n",
      "OllamaEmbeddings: 100%|██████████| 1/1 [00:00<00:00, 12.77it/s]\n"
     ]
    },
    {
     "data": {
      "text/markdown": [
       " Based on the context provided, here's an example GraphQL query for the schema `BLX001T` to fetch the fields `CCN`, `TIN`, `NPI`, where the `groupnumber` starts with `786`. The result will be returned in JSON format.\n",
       "\n",
       "```graphql\n",
       "query GetData {\n",
       "  BLX001T(where: {groupnumber: {beginsWith: \"786\"}}) {\n",
       "    CCN\n",
       "    TIN\n",
       "    NPI\n",
       "  }\n",
       "}\n",
       "```\n",
       "\n",
       "This query will return a JSON object containing the `CCN`, `TIN`, and `NPI` for all records in the `BLX001T` schema where the `groupnumber` starts with `786`."
      ],
      "text/plain": [
       "<IPython.core.display.Markdown object>"
      ]
     },
     "metadata": {},
     "output_type": "display_data"
    }
   ],
   "source": [
    "\n",
    "from IPython.display import Markdown, display\n",
    "answer = chain.invoke(\n",
    "    \"create a graphql query: schema name is BLX001T i need a CCN, TIN,NPI and where groupnumber is start with 786. give me a output in a json discription,graphql,other\")\n",
    "display(Markdown(answer))"
   ]
  }
 ],
 "metadata": {
  "kernelspec": {
   "display_name": "venv",
   "language": "python",
   "name": "python3"
  },
  "language_info": {
   "codemirror_mode": {
    "name": "ipython",
    "version": 3
   },
   "file_extension": ".py",
   "mimetype": "text/x-python",
   "name": "python",
   "nbconvert_exporter": "python",
   "pygments_lexer": "ipython3",
   "version": "3.11.9"
  }
 },
 "nbformat": 4,
 "nbformat_minor": 2
}
